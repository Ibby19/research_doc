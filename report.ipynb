{
 "cells": [
  {
   "cell_type": "markdown",
   "metadata": {
    "extensions": {
     "jupyter_dashboards": {
      "version": 1,
      "views": {
       "grid_default": {},
       "report_default": {
        "hidden": false
       }
      }
     }
    }
   },
   "source": [
    "# My Survey Report"
   ]
  },
  {
   "cell_type": "markdown",
   "metadata": {
    "extensions": {
     "jupyter_dashboards": {
      "version": 1,
      "views": {
       "grid_default": {},
       "report_default": {
        "hidden": false
       }
      }
     }
    }
   },
   "source": [
    "###### This survey uses jupyter dashboard"
   ]
  },
  {
   "cell_type": "markdown",
   "metadata": {
    "extensions": {
     "jupyter_dashboards": {
      "version": 1,
      "views": {
       "grid_default": {},
       "report_default": {
        "hidden": false
       }
      }
     }
    }
   },
   "source": [
    "### Brief\n",
    "\n",
    "We were tasked with getting a number of users to play four games, after that they had to fill out a survey for us to find out general information about how they found the experience"
   ]
  },
  {
   "cell_type": "markdown",
   "metadata": {
    "extensions": {
     "jupyter_dashboards": {
      "version": 1,
      "views": {
       "grid_default": {},
       "report_default": {
        "hidden": false
       }
      }
     }
    }
   },
   "source": [
    "### Insert Necesary libraries"
   ]
  },
  {
   "cell_type": "code",
   "execution_count": 2,
   "metadata": {
    "extensions": {
     "jupyter_dashboards": {
      "version": 1,
      "views": {
       "grid_default": {},
       "report_default": {
        "hidden": false
       }
      }
     }
    }
   },
   "outputs": [],
   "source": [
    "import pandas as pd\n",
    "import numpy as np\n",
    "import matplotlib.pyplot as plt"
   ]
  },
  {
   "cell_type": "markdown",
   "metadata": {
    "extensions": {
     "jupyter_dashboards": {
      "version": 1,
      "views": {
       "grid_default": {},
       "report_default": {
        "hidden": false
       }
      }
     }
    }
   },
   "source": [
    "### First Survey Responses"
   ]
  },
  {
   "cell_type": "code",
   "execution_count": 4,
   "metadata": {
    "extensions": {
     "jupyter_dashboards": {
      "version": 1,
      "views": {
       "grid_default": {},
       "report_default": {
        "hidden": false
       }
      }
     }
    }
   },
   "outputs": [
    {
     "data": {
      "text/html": [
       "<div>\n",
       "<style scoped>\n",
       "    .dataframe tbody tr th:only-of-type {\n",
       "        vertical-align: middle;\n",
       "    }\n",
       "\n",
       "    .dataframe tbody tr th {\n",
       "        vertical-align: top;\n",
       "    }\n",
       "\n",
       "    .dataframe thead th {\n",
       "        text-align: right;\n",
       "    }\n",
       "</style>\n",
       "<table border=\"1\" class=\"dataframe\">\n",
       "  <thead>\n",
       "    <tr style=\"text-align: right;\">\n",
       "      <th></th>\n",
       "      <th>Timestamp</th>\n",
       "      <th>Email Address</th>\n",
       "      <th>Did you enjoy playing the online games ?</th>\n",
       "      <th>Which game was your favourite ?</th>\n",
       "      <th>How would you improve the game you chose as your favourite ?</th>\n",
       "      <th>Which game was your least favourite ?</th>\n",
       "      <th>Why was this game your least favourite ?</th>\n",
       "      <th>Pitch an idea of an original online game detailing  how it functions, the rewards, teaching moment (if any), etc.</th>\n",
       "      <th>Which game did you struggle with ?</th>\n",
       "      <th>Would u recommend any of the games to other people ?</th>\n",
       "      <th>Give  reason for  your answer.</th>\n",
       "    </tr>\n",
       "  </thead>\n",
       "  <tbody>\n",
       "    <tr>\n",
       "      <th>0</th>\n",
       "      <td>1/23/2019 11:38:06</td>\n",
       "      <td>nhlalwenhleg@gmail.com</td>\n",
       "      <td>Yes</td>\n",
       "      <td>helicopter game.</td>\n",
       "      <td>make them mobile friendly</td>\n",
       "      <td>NaN</td>\n",
       "      <td>NaN</td>\n",
       "      <td>tinder meets the sims meets gta = Get that pap...</td>\n",
       "      <td>Addicting games</td>\n",
       "      <td>No</td>\n",
       "      <td>NaN</td>\n",
       "    </tr>\n",
       "    <tr>\n",
       "      <th>1</th>\n",
       "      <td>1/23/2019 14:14:56</td>\n",
       "      <td>emmanuel.madi@umuzi.org</td>\n",
       "      <td>Yes</td>\n",
       "      <td>helicopter game.</td>\n",
       "      <td>include user instructions</td>\n",
       "      <td>paperclips</td>\n",
       "      <td>I didn't get the objective of the game</td>\n",
       "      <td>NaN</td>\n",
       "      <td>paperclips</td>\n",
       "      <td>Yes</td>\n",
       "      <td>To take their mind of things</td>\n",
       "    </tr>\n",
       "    <tr>\n",
       "      <th>2</th>\n",
       "      <td>1/23/2019 14:31:11</td>\n",
       "      <td>mark.thipe@umuzi.org</td>\n",
       "      <td>No</td>\n",
       "      <td>helicopter game.</td>\n",
       "      <td>NaN</td>\n",
       "      <td>Addicting games</td>\n",
       "      <td>NaN</td>\n",
       "      <td>NaN</td>\n",
       "      <td>slither.</td>\n",
       "      <td>No</td>\n",
       "      <td>NaN</td>\n",
       "    </tr>\n",
       "    <tr>\n",
       "      <th>3</th>\n",
       "      <td>1/23/2019 14:34:19</td>\n",
       "      <td>nechia.khuzwayo@umuzi.org</td>\n",
       "      <td>Yes</td>\n",
       "      <td>paperclips</td>\n",
       "      <td>NaN</td>\n",
       "      <td>slither.</td>\n",
       "      <td>It is too slow</td>\n",
       "      <td>NaN</td>\n",
       "      <td>Addicting games</td>\n",
       "      <td>Yes</td>\n",
       "      <td>They are nice and exciting</td>\n",
       "    </tr>\n",
       "    <tr>\n",
       "      <th>4</th>\n",
       "      <td>1/23/2019 14:59:55</td>\n",
       "      <td>cindy.moyo@umuzi.org</td>\n",
       "      <td>Yes</td>\n",
       "      <td>slither.</td>\n",
       "      <td>Instructions</td>\n",
       "      <td>paperclips</td>\n",
       "      <td>I don't understand it.</td>\n",
       "      <td>NaN</td>\n",
       "      <td>helicopter game.</td>\n",
       "      <td>Yes</td>\n",
       "      <td>It was intresting just very hard to control th...</td>\n",
       "    </tr>\n",
       "    <tr>\n",
       "      <th>5</th>\n",
       "      <td>1/23/2019 15:58:17</td>\n",
       "      <td>khomotso.mkansi@umuzi.org</td>\n",
       "      <td>Yes</td>\n",
       "      <td>slither.</td>\n",
       "      <td>boundaries</td>\n",
       "      <td>helicopter game.</td>\n",
       "      <td>it looks likes an advert</td>\n",
       "      <td>none, i'm also still stressed about my game</td>\n",
       "      <td>helicopter game.</td>\n",
       "      <td>Yes</td>\n",
       "      <td>i didnt like it from looking at it</td>\n",
       "    </tr>\n",
       "    <tr>\n",
       "      <th>6</th>\n",
       "      <td>1/23/2019 16:10:27</td>\n",
       "      <td>johanna.mehlape@umuzi.org</td>\n",
       "      <td>Yes</td>\n",
       "      <td>helicopter game.</td>\n",
       "      <td>lower the speed to suit beginners because we c...</td>\n",
       "      <td>slither.</td>\n",
       "      <td>the snake easily rcashed into surroundigs with...</td>\n",
       "      <td>NaN</td>\n",
       "      <td>slither.</td>\n",
       "      <td>No</td>\n",
       "      <td>Most of people I know always complain about la...</td>\n",
       "    </tr>\n",
       "    <tr>\n",
       "      <th>7</th>\n",
       "      <td>1/24/2019 14:17:34</td>\n",
       "      <td>tsholofelo.mautjana@umuzi.org</td>\n",
       "      <td>No</td>\n",
       "      <td>Addicting games</td>\n",
       "      <td>more controls</td>\n",
       "      <td>paperclips</td>\n",
       "      <td>no instructions</td>\n",
       "      <td>NaN</td>\n",
       "      <td>slither.</td>\n",
       "      <td>Yes</td>\n",
       "      <td>their fun, relaxes your brain</td>\n",
       "    </tr>\n",
       "  </tbody>\n",
       "</table>\n",
       "</div>"
      ],
      "text/plain": [
       "            Timestamp                  Email Address  \\\n",
       "0  1/23/2019 11:38:06         nhlalwenhleg@gmail.com   \n",
       "1  1/23/2019 14:14:56        emmanuel.madi@umuzi.org   \n",
       "2  1/23/2019 14:31:11           mark.thipe@umuzi.org   \n",
       "3  1/23/2019 14:34:19      nechia.khuzwayo@umuzi.org   \n",
       "4  1/23/2019 14:59:55           cindy.moyo@umuzi.org   \n",
       "5  1/23/2019 15:58:17      khomotso.mkansi@umuzi.org   \n",
       "6  1/23/2019 16:10:27      johanna.mehlape@umuzi.org   \n",
       "7  1/24/2019 14:17:34  tsholofelo.mautjana@umuzi.org   \n",
       "\n",
       "  Did you enjoy playing the online games ? Which game was your favourite ?  \\\n",
       "0                                      Yes                helicopter game.   \n",
       "1                                      Yes                helicopter game.   \n",
       "2                                       No                helicopter game.   \n",
       "3                                      Yes                      paperclips   \n",
       "4                                      Yes                        slither.   \n",
       "5                                      Yes                        slither.   \n",
       "6                                      Yes                helicopter game.   \n",
       "7                                       No                 Addicting games   \n",
       "\n",
       "  How would you improve the game you chose as your favourite ?  \\\n",
       "0                          make them mobile friendly             \n",
       "1                          include user instructions             \n",
       "2                                                NaN             \n",
       "3                                                NaN             \n",
       "4                                       Instructions             \n",
       "5                                         boundaries             \n",
       "6  lower the speed to suit beginners because we c...             \n",
       "7                                      more controls             \n",
       "\n",
       "  Which game was your least favourite ?  \\\n",
       "0                                   NaN   \n",
       "1                            paperclips   \n",
       "2                       Addicting games   \n",
       "3                              slither.   \n",
       "4                            paperclips   \n",
       "5                      helicopter game.   \n",
       "6                              slither.   \n",
       "7                            paperclips   \n",
       "\n",
       "            Why was this game your least favourite ?  \\\n",
       "0                                                NaN   \n",
       "1             I didn't get the objective of the game   \n",
       "2                                                NaN   \n",
       "3                                     It is too slow   \n",
       "4                             I don't understand it.   \n",
       "5                           it looks likes an advert   \n",
       "6  the snake easily rcashed into surroundigs with...   \n",
       "7                                    no instructions   \n",
       "\n",
       "  Pitch an idea of an original online game detailing  how it functions, the rewards, teaching moment (if any), etc.  \\\n",
       "0  tinder meets the sims meets gta = Get that pap...                                                                  \n",
       "1                                                NaN                                                                  \n",
       "2                                                NaN                                                                  \n",
       "3                                                NaN                                                                  \n",
       "4                                                NaN                                                                  \n",
       "5        none, i'm also still stressed about my game                                                                  \n",
       "6                                                NaN                                                                  \n",
       "7                                                NaN                                                                  \n",
       "\n",
       "  Which game did you struggle with ?  \\\n",
       "0                    Addicting games   \n",
       "1                         paperclips   \n",
       "2                           slither.   \n",
       "3                    Addicting games   \n",
       "4                   helicopter game.   \n",
       "5                   helicopter game.   \n",
       "6                           slither.   \n",
       "7                           slither.   \n",
       "\n",
       "  Would u recommend any of the games to other people ?   \\\n",
       "0                                                 No      \n",
       "1                                                Yes      \n",
       "2                                                 No      \n",
       "3                                                Yes      \n",
       "4                                                Yes      \n",
       "5                                                Yes      \n",
       "6                                                 No      \n",
       "7                                                Yes      \n",
       "\n",
       "                      Give  reason for  your answer.  \n",
       "0                                                NaN  \n",
       "1                       To take their mind of things  \n",
       "2                                                NaN  \n",
       "3                        They are nice and exciting   \n",
       "4  It was intresting just very hard to control th...  \n",
       "5                 i didnt like it from looking at it  \n",
       "6  Most of people I know always complain about la...  \n",
       "7                      their fun, relaxes your brain  "
      ]
     },
     "execution_count": 4,
     "metadata": {},
     "output_type": "execute_result"
    }
   ],
   "source": [
    "df1 = pd.read_csv('Form_R.csv', delimiter = ',', dtype=str)\n",
    "df1"
   ]
  },
  {
   "cell_type": "markdown",
   "metadata": {
    "extensions": {
     "jupyter_dashboards": {
      "version": 1,
      "views": {
       "grid_default": {},
       "report_default": {
        "hidden": false
       }
      }
     }
    }
   },
   "source": [
    "### Second Survey Responses\n",
    "\n",
    "#### Cleaned responses with more managable names and deleted data\n",
    "\n",
    "I found it difficult to work with the raw results that we gathered from the csv so I first used Python to try make the data more managable but it wasn't the way that I wanted to be it to be. \n",
    "This lead me to using excel to clean the data and make it more user friendly for the scripts that I needed to run on the data.\n",
    "Below is the result."
   ]
  },
  {
   "cell_type": "code",
   "execution_count": 15,
   "metadata": {
    "extensions": {
     "jupyter_dashboards": {
      "version": 1,
      "views": {
       "grid_default": {},
       "report_default": {
        "hidden": false
       }
      }
     }
    },
    "scrolled": true
   },
   "outputs": [
    {
     "data": {
      "text/html": [
       "<div>\n",
       "<style scoped>\n",
       "    .dataframe tbody tr th:only-of-type {\n",
       "        vertical-align: middle;\n",
       "    }\n",
       "\n",
       "    .dataframe tbody tr th {\n",
       "        vertical-align: top;\n",
       "    }\n",
       "\n",
       "    .dataframe thead th {\n",
       "        text-align: right;\n",
       "    }\n",
       "</style>\n",
       "<table border=\"1\" class=\"dataframe\">\n",
       "  <thead>\n",
       "    <tr style=\"text-align: right;\">\n",
       "      <th></th>\n",
       "      <th>was_the_game_enjoyable</th>\n",
       "      <th>favourite_game</th>\n",
       "      <th>improvement_on_favourite</th>\n",
       "      <th>least_favourite</th>\n",
       "      <th>reason_for_least_favourite</th>\n",
       "      <th>struggle_game</th>\n",
       "      <th>recommendation</th>\n",
       "      <th>reason_for_recommendation</th>\n",
       "    </tr>\n",
       "  </thead>\n",
       "  <tbody>\n",
       "    <tr>\n",
       "      <th>0</th>\n",
       "      <td>Yes</td>\n",
       "      <td>helicopter game.</td>\n",
       "      <td>make them mobile friendly</td>\n",
       "      <td>paperclips</td>\n",
       "      <td>It had no instructions and therefore was diffi...</td>\n",
       "      <td>Addicting games</td>\n",
       "      <td>No</td>\n",
       "      <td>I don't usually play games so it wouldnt make ...</td>\n",
       "    </tr>\n",
       "    <tr>\n",
       "      <th>1</th>\n",
       "      <td>Yes</td>\n",
       "      <td>helicopter game.</td>\n",
       "      <td>include user instructions</td>\n",
       "      <td>paperclips</td>\n",
       "      <td>I didn't get the objective of the game</td>\n",
       "      <td>paperclips</td>\n",
       "      <td>Yes</td>\n",
       "      <td>To take their mind of things</td>\n",
       "    </tr>\n",
       "    <tr>\n",
       "      <th>2</th>\n",
       "      <td>No</td>\n",
       "      <td>helicopter game.</td>\n",
       "      <td>NaN</td>\n",
       "      <td>Addicting games</td>\n",
       "      <td>NaN</td>\n",
       "      <td>slither.</td>\n",
       "      <td>No</td>\n",
       "      <td>NaN</td>\n",
       "    </tr>\n",
       "    <tr>\n",
       "      <th>3</th>\n",
       "      <td>Yes</td>\n",
       "      <td>paperclips</td>\n",
       "      <td>NaN</td>\n",
       "      <td>slither.</td>\n",
       "      <td>It is too slow</td>\n",
       "      <td>Addicting games</td>\n",
       "      <td>Yes</td>\n",
       "      <td>They are nice and exciting</td>\n",
       "    </tr>\n",
       "    <tr>\n",
       "      <th>4</th>\n",
       "      <td>Yes</td>\n",
       "      <td>slither.</td>\n",
       "      <td>Instructions</td>\n",
       "      <td>paperclips</td>\n",
       "      <td>I don't understand it.</td>\n",
       "      <td>helicopter game.</td>\n",
       "      <td>Yes</td>\n",
       "      <td>It was intresting just very hard to control th...</td>\n",
       "    </tr>\n",
       "    <tr>\n",
       "      <th>5</th>\n",
       "      <td>Yes</td>\n",
       "      <td>slither.</td>\n",
       "      <td>boundaries</td>\n",
       "      <td>helicopter game.</td>\n",
       "      <td>it looks likes an advert</td>\n",
       "      <td>helicopter game.</td>\n",
       "      <td>Yes</td>\n",
       "      <td>i didnt like it from looking at it</td>\n",
       "    </tr>\n",
       "    <tr>\n",
       "      <th>6</th>\n",
       "      <td>Yes</td>\n",
       "      <td>helicopter game.</td>\n",
       "      <td>lower the speed to suit beginners because we c...</td>\n",
       "      <td>slither.</td>\n",
       "      <td>the snake easily rcashed into surroundigs with...</td>\n",
       "      <td>slither.</td>\n",
       "      <td>No</td>\n",
       "      <td>Most of people I know always complain about la...</td>\n",
       "    </tr>\n",
       "    <tr>\n",
       "      <th>7</th>\n",
       "      <td>No</td>\n",
       "      <td>Addicting games</td>\n",
       "      <td>more controls</td>\n",
       "      <td>paperclips</td>\n",
       "      <td>no instructions</td>\n",
       "      <td>slither.</td>\n",
       "      <td>Yes</td>\n",
       "      <td>their fun, relaxes your brain</td>\n",
       "    </tr>\n",
       "    <tr>\n",
       "      <th>8</th>\n",
       "      <td>Yes</td>\n",
       "      <td>slither.</td>\n",
       "      <td>Make the controls more responsive and also all...</td>\n",
       "      <td>helicopter game.</td>\n",
       "      <td>Lol getting into the controls was a bit of a m...</td>\n",
       "      <td>helicopter game.</td>\n",
       "      <td>Yes</td>\n",
       "      <td>Slither brings that feeling of nostalgia.</td>\n",
       "    </tr>\n",
       "  </tbody>\n",
       "</table>\n",
       "</div>"
      ],
      "text/plain": [
       "  was_the_game_enjoyable    favourite_game  \\\n",
       "0                    Yes  helicopter game.   \n",
       "1                    Yes  helicopter game.   \n",
       "2                     No  helicopter game.   \n",
       "3                    Yes        paperclips   \n",
       "4                    Yes          slither.   \n",
       "5                    Yes          slither.   \n",
       "6                    Yes  helicopter game.   \n",
       "7                     No   Addicting games   \n",
       "8                    Yes          slither.   \n",
       "\n",
       "                            improvement_on_favourite   least_favourite  \\\n",
       "0                          make them mobile friendly        paperclips   \n",
       "1                          include user instructions        paperclips   \n",
       "2                                                NaN   Addicting games   \n",
       "3                                                NaN          slither.   \n",
       "4                                       Instructions        paperclips   \n",
       "5                                         boundaries  helicopter game.   \n",
       "6  lower the speed to suit beginners because we c...          slither.   \n",
       "7                                      more controls        paperclips   \n",
       "8  Make the controls more responsive and also all...  helicopter game.   \n",
       "\n",
       "                          reason_for_least_favourite     struggle_game  \\\n",
       "0  It had no instructions and therefore was diffi...   Addicting games   \n",
       "1             I didn't get the objective of the game        paperclips   \n",
       "2                                                NaN          slither.   \n",
       "3                                     It is too slow   Addicting games   \n",
       "4                             I don't understand it.  helicopter game.   \n",
       "5                           it looks likes an advert  helicopter game.   \n",
       "6  the snake easily rcashed into surroundigs with...          slither.   \n",
       "7                                    no instructions          slither.   \n",
       "8  Lol getting into the controls was a bit of a m...  helicopter game.   \n",
       "\n",
       "  recommendation                          reason_for_recommendation  \n",
       "0             No  I don't usually play games so it wouldnt make ...  \n",
       "1            Yes                       To take their mind of things  \n",
       "2             No                                                NaN  \n",
       "3            Yes                        They are nice and exciting   \n",
       "4            Yes  It was intresting just very hard to control th...  \n",
       "5            Yes                 i didnt like it from looking at it  \n",
       "6             No  Most of people I know always complain about la...  \n",
       "7            Yes                      their fun, relaxes your brain  \n",
       "8            Yes          Slither brings that feeling of nostalgia.  "
      ]
     },
     "execution_count": 15,
     "metadata": {},
     "output_type": "execute_result"
    }
   ],
   "source": [
    "\n",
    "df = pd.read_csv('survey.csv', delimiter = ',', dtype=str)\n",
    "\n",
    "df"
   ]
  },
  {
   "cell_type": "markdown",
   "metadata": {
    "extensions": {
     "jupyter_dashboards": {
      "version": 1,
      "views": {
       "grid_default": {},
       "report_default": {
        "hidden": false
       }
      }
     }
    }
   },
   "source": [
    "### Visualisation for, Did you enjoy playing the games.\n",
    "\n",
    "As shown below in the donut graph, 6 users enjoyed playing the game and 2 users didn't."
   ]
  },
  {
   "cell_type": "code",
   "execution_count": 45,
   "metadata": {
    "extensions": {
     "jupyter_dashboards": {
      "version": 1,
      "views": {
       "grid_default": {},
       "report_default": {
        "hidden": false
       }
      }
     }
    },
    "scrolled": true
   },
   "outputs": [
    {
     "data": {
      "text/plain": [
       "<matplotlib.patches.Circle at 0x7f1244881860>"
      ]
     },
     "execution_count": 45,
     "metadata": {},
     "output_type": "execute_result"
    },
    {
     "data": {
      "image/png": "[encoded data removed]",
      "text/plain": [
       "<Figure size 432x432 with 1 Axes>"
      ]
     },
     "metadata": {},
     "output_type": "display_data"
    }
   ],
   "source": [
    "df['was_the_game_enjoyable' ].value_counts().plot(kind='pie', autopct = '%0.0f%%', figsize=(6, 6), startangle=90, colors=['skyblue','lightgreen'])\n",
    "plt.axis('equal')\n",
    "#plt.title('Enjoyment')\n",
    "\n",
    "my_circle=plt.Circle( (0,0), 0.75, color='white')\n",
    "p=plt.gcf()\n",
    "p.gca().add_artist(my_circle)"
   ]
  },
  {
   "cell_type": "markdown",
   "metadata": {
    "extensions": {
     "jupyter_dashboards": {
      "version": 1,
      "views": {
       "grid_default": {},
       "report_default": {
        "hidden": false
       }
      }
     }
    }
   },
   "source": [
    "### Visualisation for, which game was your favourite.\n",
    "\n",
    "As shown below in the donut graph, 4 users chose helicopter game, 3 users choose slither.io, \n",
    "1 user choose paper clip and 1 user choose addicting games.\n",
    "The insight that I found from this observation is that more users enjoyed playing the helicopter game then any of the other games."
   ]
  },
  {
   "cell_type": "code",
   "execution_count": 44,
   "metadata": {
    "extensions": {
     "jupyter_dashboards": {
      "version": 1,
      "views": {
       "grid_default": {},
       "report_default": {
        "hidden": false
       }
      }
     }
    }
   },
   "outputs": [
    {
     "data": {
      "text/plain": [
       "<matplotlib.patches.Circle at 0x7f12448bbbe0>"
      ]
     },
     "execution_count": 44,
     "metadata": {},
     "output_type": "execute_result"
    },
    {
     "data": {
      "image/png": "[encoded data removed]",
      "text/plain": [
       "<Figure size 432x432 with 1 Axes>"
      ]
     },
     "metadata": {},
     "output_type": "display_data"
    }
   ],
   "source": [
    "df['favourite_game'].value_counts().plot(kind='pie', autopct = '%0.0f%%', figsize=(6, 6), startangle=45, colors=['silver','skyblue','lightgreen','orchid'])\n",
    "plt.axis('equal')\n",
    "#plt.title('Enjoyment')\n",
    "\n",
    "my_circle=plt.Circle( (0,0), 0.75, color='white')\n",
    "p=plt.gcf()\n",
    "p.gca().add_artist(my_circle)"
   ]
  },
  {
   "cell_type": "markdown",
   "metadata": {
    "extensions": {
     "jupyter_dashboards": {
      "version": 1,
      "views": {
       "grid_default": {},
       "report_default": {
        "hidden": false
       }
      }
     }
    }
   },
   "source": [
    "### Visualisation for, which game was your least favourite\n",
    "\n",
    "As shown below in the donut graph, the least favourite game was paperclips. From the insights that I gathered paparclips was the least favourite because there wasn't instructions, the objective of the game wasn't clear and it just wasn't understood by a lot of the users."
   ]
  },
  {
   "cell_type": "code",
   "execution_count": 43,
   "metadata": {
    "extensions": {
     "jupyter_dashboards": {
      "version": 1,
      "views": {
       "grid_default": {},
       "report_default": {
        "hidden": false
       }
      }
     }
    }
   },
   "outputs": [
    {
     "data": {
      "text/plain": [
       "<matplotlib.patches.Circle at 0x7f12448f2da0>"
      ]
     },
     "execution_count": 43,
     "metadata": {},
     "output_type": "execute_result"
    },
    {
     "data": {
      "image/png": "[encoded data removed]",
      "text/plain": [
       "<Figure size 432x432 with 1 Axes>"
      ]
     },
     "metadata": {},
     "output_type": "display_data"
    }
   ],
   "source": [
    "df['least_favourite'].value_counts().plot(kind='pie', autopct = '%0.0f%%', figsize=(6, 6), startangle=45, colors=['silver','skyblue','lightgreen','orchid'])\n",
    "plt.axis('equal')\n",
    "#plt.title('Enjoyment')\n",
    "\n",
    "my_circle=plt.Circle( (0,0), 0.75, color='white')\n",
    "p=plt.gcf()\n",
    "p.gca().add_artist(my_circle)\n"
   ]
  },
  {
   "cell_type": "markdown",
   "metadata": {
    "extensions": {
     "jupyter_dashboards": {
      "version": 1,
      "views": {
       "grid_default": {},
       "report_default": {
        "hidden": false
       }
      }
     }
    }
   },
   "source": [
    "### Visualisation for, which game was struggled with\n",
    "\n",
    "As shown below in the donut graph, the game most struggled with was slither.io. The observation that I made while watching the users play the game is that it lagged on slower computers, it is mouse controlled and sometimes didn't go in the desired direction that the mouse is pointed. It however made people feel nostulgic and that made it fun for some of the users. "
   ]
  },
  {
   "cell_type": "code",
   "execution_count": 42,
   "metadata": {
    "extensions": {
     "jupyter_dashboards": {
      "version": 1,
      "views": {
       "grid_default": {},
       "report_default": {
        "hidden": false
       }
      }
     }
    },
    "scrolled": false
   },
   "outputs": [
    {
     "data": {
      "text/plain": [
       "<matplotlib.patches.Circle at 0x7f1244940080>"
      ]
     },
     "execution_count": 42,
     "metadata": {},
     "output_type": "execute_result"
    },
    {
     "data": {
      "image/png": "[encoded data removed]",
      "text/plain": [
       "<Figure size 432x432 with 1 Axes>"
      ]
     },
     "metadata": {},
     "output_type": "display_data"
    }
   ],
   "source": [
    "df['struggle_game'].value_counts().plot(kind='pie', autopct = '%0.0f%%', figsize=(6, 6), startangle=45, colors=['silver','skyblue','lightgreen','orchid'])\n",
    "plt.axis('equal')\n",
    "#plt.title('Enjoyment')\n",
    "\n",
    "my_circle=plt.Circle( (0,0), 0.75, color='white')\n",
    "p=plt.gcf()\n",
    "p.gca().add_artist(my_circle)\n"
   ]
  },
  {
   "cell_type": "markdown",
   "metadata": {
    "extensions": {
     "jupyter_dashboards": {
      "version": 1,
      "views": {
       "grid_default": {},
       "report_default": {
        "hidden": false
       }
      }
     }
    }
   },
   "source": [
    "### Visualisation for, would you recommend any of the games to other people\n",
    "\n",
    "As shown below in the donut graph, 6 of our 8 users said that they would recommend these games to other people. This leads me to the insight that people are willing to play online games and would recommend them to other people."
   ]
  },
  {
   "cell_type": "code",
   "execution_count": 26,
   "metadata": {
    "extensions": {
     "jupyter_dashboards": {
      "version": 1,
      "views": {
       "grid_default": {},
       "report_default": {
        "hidden": false
       }
      }
     }
    }
   },
   "outputs": [
    {
     "data": {
      "text/plain": [
       "<matplotlib.patches.Circle at 0x7f1244f22470>"
      ]
     },
     "execution_count": 26,
     "metadata": {},
     "output_type": "execute_result"
    },
    {
     "data": {
      "image/png": "[encoded data removed]",
      "text/plain": [
       "<Figure size 432x432 with 1 Axes>"
      ]
     },
     "metadata": {},
     "output_type": "display_data"
    }
   ],
   "source": [
    "df['recommendation'].value_counts().plot(kind='pie', autopct = '%0.0f%%',figsize=(6, 6), startangle=90 , colors=['grey','skyblue'] )\n",
    "plt.axis('equal')\n",
    "#plt.title('Enjoyment')\n",
    "\n",
    "my_circle=plt.Circle( (0,0), 0.75, color='white')\n",
    "p=plt.gcf()\n",
    "p.gca().add_artist(my_circle)\n"
   ]
  }
 ],
 "metadata": {
  "extensions": {
   "jupyter_dashboards": {
    "activeView": "report_default",
    "version": 1,
    "views": {
     "grid_default": {
      "name": "grid",
      "type": "grid"
     },
     "report_default": {
      "name": "report",
      "type": "report"
     }
    }
   }
  },
  "kernelspec": {
   "display_name": "Python 3",
   "language": "python",
   "name": "python3"
  },
  "language_info": {
   "codemirror_mode": {
    "name": "ipython",
    "version": 3
   },
   "file_extension": ".py",
   "mimetype": "text/x-python",
   "name": "python",
   "nbconvert_exporter": "python",
   "pygments_lexer": "ipython3",
   "version": "3.6.7"
  }
 },
 "nbformat": 4,
 "nbformat_minor": 2
}
